{
 "cells": [
  {
   "cell_type": "markdown",
   "id": "08686a5a",
   "metadata": {},
   "source": [
    "**Alina Florencia Karuniawati - PYTN-KS10-001**"
   ]
  },
  {
   "cell_type": "markdown",
   "id": "584ce406",
   "metadata": {},
   "source": [
    "# Import Package"
   ]
  },
  {
   "cell_type": "code",
   "execution_count": 1,
   "id": "5cf9f8e1",
   "metadata": {},
   "outputs": [],
   "source": [
    "import pandas as pd\n",
    "from matplotlib import pyplot as plt \n",
    "import numpy as np\n",
    "import seaborn as sns\n",
    "from scipy.stats import friedmanchisquare\n",
    "from statsmodels.stats.diagnostic import normal_ad\n",
    "\n",
    "import sys\n",
    "\n",
    "if not sys.warnoptions:\n",
    "    import warnings\n",
    "    warnings.simplefilter(\"ignore\")"
   ]
  },
  {
   "cell_type": "markdown",
   "id": "51b41754",
   "metadata": {},
   "source": [
    "# Overview Data"
   ]
  },
  {
   "cell_type": "code",
   "execution_count": 2,
   "id": "f6e792de",
   "metadata": {
    "scrolled": false
   },
   "outputs": [
    {
     "data": {
      "text/html": [
       "<div>\n",
       "<style scoped>\n",
       "    .dataframe tbody tr th:only-of-type {\n",
       "        vertical-align: middle;\n",
       "    }\n",
       "\n",
       "    .dataframe tbody tr th {\n",
       "        vertical-align: top;\n",
       "    }\n",
       "\n",
       "    .dataframe thead th {\n",
       "        text-align: right;\n",
       "    }\n",
       "</style>\n",
       "<table border=\"1\" class=\"dataframe\">\n",
       "  <thead>\n",
       "    <tr style=\"text-align: right;\">\n",
       "      <th></th>\n",
       "      <th>Unnamed: 0</th>\n",
       "      <th>BOROUGH</th>\n",
       "      <th>NEIGHBORHOOD</th>\n",
       "      <th>BUILDING CLASS CATEGORY</th>\n",
       "      <th>TAX CLASS AT PRESENT</th>\n",
       "      <th>BLOCK</th>\n",
       "      <th>LOT</th>\n",
       "      <th>EASE-MENT</th>\n",
       "      <th>BUILDING CLASS AT PRESENT</th>\n",
       "      <th>ADDRESS</th>\n",
       "      <th>...</th>\n",
       "      <th>RESIDENTIAL UNITS</th>\n",
       "      <th>COMMERCIAL UNITS</th>\n",
       "      <th>TOTAL UNITS</th>\n",
       "      <th>LAND SQUARE FEET</th>\n",
       "      <th>GROSS SQUARE FEET</th>\n",
       "      <th>YEAR BUILT</th>\n",
       "      <th>TAX CLASS AT TIME OF SALE</th>\n",
       "      <th>BUILDING CLASS AT TIME OF SALE</th>\n",
       "      <th>SALE PRICE</th>\n",
       "      <th>SALE DATE</th>\n",
       "    </tr>\n",
       "  </thead>\n",
       "  <tbody>\n",
       "    <tr>\n",
       "      <th>0</th>\n",
       "      <td>4</td>\n",
       "      <td>1</td>\n",
       "      <td>ALPHABET CITY</td>\n",
       "      <td>07 RENTALS - WALKUP APARTMENTS</td>\n",
       "      <td>2A</td>\n",
       "      <td>392</td>\n",
       "      <td>6</td>\n",
       "      <td></td>\n",
       "      <td>C2</td>\n",
       "      <td>153 AVENUE B</td>\n",
       "      <td>...</td>\n",
       "      <td>5</td>\n",
       "      <td>0</td>\n",
       "      <td>5</td>\n",
       "      <td>1633.0</td>\n",
       "      <td>6440.0</td>\n",
       "      <td>1900</td>\n",
       "      <td>2</td>\n",
       "      <td>C2</td>\n",
       "      <td>6625000.0</td>\n",
       "      <td>2017-07-19 00:00:00</td>\n",
       "    </tr>\n",
       "    <tr>\n",
       "      <th>1</th>\n",
       "      <td>5</td>\n",
       "      <td>1</td>\n",
       "      <td>ALPHABET CITY</td>\n",
       "      <td>07 RENTALS - WALKUP APARTMENTS</td>\n",
       "      <td>2</td>\n",
       "      <td>399</td>\n",
       "      <td>26</td>\n",
       "      <td></td>\n",
       "      <td>C7</td>\n",
       "      <td>234 EAST 4TH   STREET</td>\n",
       "      <td>...</td>\n",
       "      <td>28</td>\n",
       "      <td>3</td>\n",
       "      <td>31</td>\n",
       "      <td>4616.0</td>\n",
       "      <td>18690.0</td>\n",
       "      <td>1900</td>\n",
       "      <td>2</td>\n",
       "      <td>C7</td>\n",
       "      <td>NaN</td>\n",
       "      <td>2016-12-14 00:00:00</td>\n",
       "    </tr>\n",
       "    <tr>\n",
       "      <th>2</th>\n",
       "      <td>6</td>\n",
       "      <td>1</td>\n",
       "      <td>ALPHABET CITY</td>\n",
       "      <td>07 RENTALS - WALKUP APARTMENTS</td>\n",
       "      <td>2</td>\n",
       "      <td>399</td>\n",
       "      <td>39</td>\n",
       "      <td></td>\n",
       "      <td>C7</td>\n",
       "      <td>197 EAST 3RD   STREET</td>\n",
       "      <td>...</td>\n",
       "      <td>16</td>\n",
       "      <td>1</td>\n",
       "      <td>17</td>\n",
       "      <td>2212.0</td>\n",
       "      <td>7803.0</td>\n",
       "      <td>1900</td>\n",
       "      <td>2</td>\n",
       "      <td>C7</td>\n",
       "      <td>NaN</td>\n",
       "      <td>2016-12-09 00:00:00</td>\n",
       "    </tr>\n",
       "    <tr>\n",
       "      <th>3</th>\n",
       "      <td>7</td>\n",
       "      <td>1</td>\n",
       "      <td>ALPHABET CITY</td>\n",
       "      <td>07 RENTALS - WALKUP APARTMENTS</td>\n",
       "      <td>2B</td>\n",
       "      <td>402</td>\n",
       "      <td>21</td>\n",
       "      <td></td>\n",
       "      <td>C4</td>\n",
       "      <td>154 EAST 7TH STREET</td>\n",
       "      <td>...</td>\n",
       "      <td>10</td>\n",
       "      <td>0</td>\n",
       "      <td>10</td>\n",
       "      <td>2272.0</td>\n",
       "      <td>6794.0</td>\n",
       "      <td>1913</td>\n",
       "      <td>2</td>\n",
       "      <td>C4</td>\n",
       "      <td>3936272.0</td>\n",
       "      <td>2016-09-23 00:00:00</td>\n",
       "    </tr>\n",
       "    <tr>\n",
       "      <th>4</th>\n",
       "      <td>8</td>\n",
       "      <td>1</td>\n",
       "      <td>ALPHABET CITY</td>\n",
       "      <td>07 RENTALS - WALKUP APARTMENTS</td>\n",
       "      <td>2A</td>\n",
       "      <td>404</td>\n",
       "      <td>55</td>\n",
       "      <td></td>\n",
       "      <td>C2</td>\n",
       "      <td>301 EAST 10TH   STREET</td>\n",
       "      <td>...</td>\n",
       "      <td>6</td>\n",
       "      <td>0</td>\n",
       "      <td>6</td>\n",
       "      <td>2369.0</td>\n",
       "      <td>4615.0</td>\n",
       "      <td>1900</td>\n",
       "      <td>2</td>\n",
       "      <td>C2</td>\n",
       "      <td>8000000.0</td>\n",
       "      <td>2016-11-17 00:00:00</td>\n",
       "    </tr>\n",
       "  </tbody>\n",
       "</table>\n",
       "<p>5 rows × 22 columns</p>\n",
       "</div>"
      ],
      "text/plain": [
       "   Unnamed: 0  BOROUGH   NEIGHBORHOOD  \\\n",
       "0           4        1  ALPHABET CITY   \n",
       "1           5        1  ALPHABET CITY   \n",
       "2           6        1  ALPHABET CITY   \n",
       "3           7        1  ALPHABET CITY   \n",
       "4           8        1  ALPHABET CITY   \n",
       "\n",
       "                       BUILDING CLASS CATEGORY TAX CLASS AT PRESENT  BLOCK  \\\n",
       "0  07 RENTALS - WALKUP APARTMENTS                                2A    392   \n",
       "1  07 RENTALS - WALKUP APARTMENTS                                 2    399   \n",
       "2  07 RENTALS - WALKUP APARTMENTS                                 2    399   \n",
       "3  07 RENTALS - WALKUP APARTMENTS                                2B    402   \n",
       "4  07 RENTALS - WALKUP APARTMENTS                                2A    404   \n",
       "\n",
       "   LOT EASE-MENT BUILDING CLASS AT PRESENT                 ADDRESS  ...  \\\n",
       "0    6                                  C2            153 AVENUE B  ...   \n",
       "1   26                                  C7   234 EAST 4TH   STREET  ...   \n",
       "2   39                                  C7   197 EAST 3RD   STREET  ...   \n",
       "3   21                                  C4     154 EAST 7TH STREET  ...   \n",
       "4   55                                  C2  301 EAST 10TH   STREET  ...   \n",
       "\n",
       "  RESIDENTIAL UNITS  COMMERCIAL UNITS  TOTAL UNITS  LAND SQUARE FEET  \\\n",
       "0                 5                 0            5            1633.0   \n",
       "1                28                 3           31            4616.0   \n",
       "2                16                 1           17            2212.0   \n",
       "3                10                 0           10            2272.0   \n",
       "4                 6                 0            6            2369.0   \n",
       "\n",
       "   GROSS SQUARE FEET  YEAR BUILT  TAX CLASS AT TIME OF SALE  \\\n",
       "0             6440.0        1900                          2   \n",
       "1            18690.0        1900                          2   \n",
       "2             7803.0        1900                          2   \n",
       "3             6794.0        1913                          2   \n",
       "4             4615.0        1900                          2   \n",
       "\n",
       "   BUILDING CLASS AT TIME OF SALE  SALE PRICE            SALE DATE  \n",
       "0                              C2   6625000.0  2017-07-19 00:00:00  \n",
       "1                              C7         NaN  2016-12-14 00:00:00  \n",
       "2                              C7         NaN  2016-12-09 00:00:00  \n",
       "3                              C4   3936272.0  2016-09-23 00:00:00  \n",
       "4                              C2   8000000.0  2016-11-17 00:00:00  \n",
       "\n",
       "[5 rows x 22 columns]"
      ]
     },
     "execution_count": 2,
     "metadata": {},
     "output_type": "execute_result"
    }
   ],
   "source": [
    "df = pd.read_csv('nyc-rolling-sales.csv', na_values =[' -  '])\n",
    "df.head()"
   ]
  },
  {
   "cell_type": "markdown",
   "id": "aef0d3e2",
   "metadata": {},
   "source": [
    "- Borough: The name of the borough in which the property is located. \n",
    "- Neighborhood:Department of Finance assessors determine the neighborhood name in the course of valuing properties. The common name of the neighborhood is generally the same as the name Finance designates. However, there may be slight differences in neighborhood boundary lines and some sub-neighborhoods may not be included. \n",
    "- Building Class Category: This is a field that we are including so that users of the Rolling Sales Files can easily identify similar properties by broad usage (e.g. One Family Homes) without looking up individual Building Classes.\n",
    "- Tax Class at Present: Every property in the city is assigned to one of four tax classes (Classes 1, 2, 3, and 4), based on the use of the property. \n",
    "- Block: A Tax Block is a sub-division of the borough on which real properties are located. \n",
    "- Lot: A Tax Lot is a subdivision of a Tax Block and represents the property unique location.\n",
    "- Easement: An easement is a right, such as a right of way, which allows an entity to make limited use of another’s real property.\n",
    "- Building Class at Present: The Building Classification is used to describe a property’s constructive use.\n",
    "- Address: The street address of the property as listed on the Sales File. Coop sales include the apartment number in the address field. \n",
    "- Zip Code: The property’s postal code \n",
    "- Residential Units: The number of residential units at the listed property. \n",
    "- Commercial Units: The number of commercial units at the listed property.\n",
    "- Total Units: The total number of units at the listed property.\n",
    "- Land Square Feet: The land area of the property listed in square feet. \n",
    "- Gross Square Feet: The total area of all the floors of a building as measured from the exterior surfaces of the outside walls of the building, including the land area and space within any building or structure on the property.\n",
    "- Year Built: Year the structure on the property was built. \n",
    "- Building Class at Time of Sale: The Building Classification is used to describe a property’s constructive use\n",
    "- Sales Price: Price paid for the property\n",
    "- Sale Date: Date when the property sold"
   ]
  },
  {
   "cell_type": "markdown",
   "id": "0bf976e1",
   "metadata": {},
   "source": [
    "# Check Data Type"
   ]
  },
  {
   "cell_type": "code",
   "execution_count": 3,
   "id": "ca94087b",
   "metadata": {},
   "outputs": [
    {
     "name": "stdout",
     "output_type": "stream",
     "text": [
      "<class 'pandas.core.frame.DataFrame'>\n",
      "RangeIndex: 84548 entries, 0 to 84547\n",
      "Data columns (total 22 columns):\n",
      " #   Column                          Non-Null Count  Dtype  \n",
      "---  ------                          --------------  -----  \n",
      " 0   Unnamed: 0                      84548 non-null  int64  \n",
      " 1   BOROUGH                         84548 non-null  int64  \n",
      " 2   NEIGHBORHOOD                    84548 non-null  object \n",
      " 3   BUILDING CLASS CATEGORY         84548 non-null  object \n",
      " 4   TAX CLASS AT PRESENT            84548 non-null  object \n",
      " 5   BLOCK                           84548 non-null  int64  \n",
      " 6   LOT                             84548 non-null  int64  \n",
      " 7   EASE-MENT                       84548 non-null  object \n",
      " 8   BUILDING CLASS AT PRESENT       84548 non-null  object \n",
      " 9   ADDRESS                         84548 non-null  object \n",
      " 10  APARTMENT NUMBER                84548 non-null  object \n",
      " 11  ZIP CODE                        84548 non-null  int64  \n",
      " 12  RESIDENTIAL UNITS               84548 non-null  int64  \n",
      " 13  COMMERCIAL UNITS                84548 non-null  int64  \n",
      " 14  TOTAL UNITS                     84548 non-null  int64  \n",
      " 15  LAND SQUARE FEET                58296 non-null  float64\n",
      " 16  GROSS SQUARE FEET               56936 non-null  float64\n",
      " 17  YEAR BUILT                      84548 non-null  int64  \n",
      " 18  TAX CLASS AT TIME OF SALE       84548 non-null  int64  \n",
      " 19  BUILDING CLASS AT TIME OF SALE  84548 non-null  object \n",
      " 20  SALE PRICE                      69987 non-null  float64\n",
      " 21  SALE DATE                       84548 non-null  object \n",
      "dtypes: float64(3), int64(10), object(9)\n",
      "memory usage: 14.2+ MB\n"
     ]
    }
   ],
   "source": [
    "df.info()"
   ]
  },
  {
   "cell_type": "markdown",
   "id": "f54cf97b",
   "metadata": {},
   "source": [
    "# Check Missing Values"
   ]
  },
  {
   "cell_type": "code",
   "execution_count": 4,
   "id": "932c7caa",
   "metadata": {},
   "outputs": [
    {
     "data": {
      "text/plain": [
       "Unnamed: 0                            0\n",
       "BOROUGH                               0\n",
       "NEIGHBORHOOD                          0\n",
       "BUILDING CLASS CATEGORY               0\n",
       "TAX CLASS AT PRESENT                  0\n",
       "BLOCK                                 0\n",
       "LOT                                   0\n",
       "EASE-MENT                             0\n",
       "BUILDING CLASS AT PRESENT             0\n",
       "ADDRESS                               0\n",
       "APARTMENT NUMBER                      0\n",
       "ZIP CODE                              0\n",
       "RESIDENTIAL UNITS                     0\n",
       "COMMERCIAL UNITS                      0\n",
       "TOTAL UNITS                           0\n",
       "LAND SQUARE FEET                  26252\n",
       "GROSS SQUARE FEET                 27612\n",
       "YEAR BUILT                            0\n",
       "TAX CLASS AT TIME OF SALE             0\n",
       "BUILDING CLASS AT TIME OF SALE        0\n",
       "SALE PRICE                        14561\n",
       "SALE DATE                             0\n",
       "dtype: int64"
      ]
     },
     "execution_count": 4,
     "metadata": {},
     "output_type": "execute_result"
    }
   ],
   "source": [
    "df.isnull().sum()"
   ]
  },
  {
   "cell_type": "markdown",
   "id": "e9c427c0",
   "metadata": {},
   "source": [
    "## Handle Missing Values"
   ]
  },
  {
   "cell_type": "markdown",
   "id": "4e446a53",
   "metadata": {},
   "source": [
    "### Replace Missing Values with Median"
   ]
  },
  {
   "cell_type": "code",
   "execution_count": 5,
   "id": "0f00e50f",
   "metadata": {},
   "outputs": [],
   "source": [
    "median1 = df['LAND SQUARE FEET'].median()\n",
    "median2 = df['GROSS SQUARE FEET'].median()\n",
    "median3 = df['SALE PRICE'].median()\n",
    "df['LAND SQUARE FEET'].fillna(median1, inplace=True)\n",
    "df['GROSS SQUARE FEET'].fillna(median2, inplace=True)\n",
    "df['SALE PRICE'].fillna(median3, inplace=True)"
   ]
  },
  {
   "cell_type": "markdown",
   "id": "195f7482",
   "metadata": {},
   "source": [
    "# Change Data Type"
   ]
  },
  {
   "cell_type": "code",
   "execution_count": 6,
   "id": "2bfcebc5",
   "metadata": {},
   "outputs": [],
   "source": [
    "df['SALE DATE'] = pd.to_datetime(df['SALE DATE'])"
   ]
  },
  {
   "cell_type": "markdown",
   "id": "23bf46a6",
   "metadata": {},
   "source": [
    "# Drop Unnecessary Column"
   ]
  },
  {
   "cell_type": "code",
   "execution_count": 7,
   "id": "16ed79d7",
   "metadata": {},
   "outputs": [],
   "source": [
    "df['SALE YEAR'] = pd.DatetimeIndex(df['SALE DATE']).year"
   ]
  },
  {
   "cell_type": "code",
   "execution_count": 8,
   "id": "1eff326f",
   "metadata": {},
   "outputs": [
    {
     "data": {
      "text/html": [
       "<div>\n",
       "<style scoped>\n",
       "    .dataframe tbody tr th:only-of-type {\n",
       "        vertical-align: middle;\n",
       "    }\n",
       "\n",
       "    .dataframe tbody tr th {\n",
       "        vertical-align: top;\n",
       "    }\n",
       "\n",
       "    .dataframe thead th {\n",
       "        text-align: right;\n",
       "    }\n",
       "</style>\n",
       "<table border=\"1\" class=\"dataframe\">\n",
       "  <thead>\n",
       "    <tr style=\"text-align: right;\">\n",
       "      <th></th>\n",
       "      <th>BOROUGH</th>\n",
       "      <th>NEIGHBORHOOD</th>\n",
       "      <th>BUILDING CLASS CATEGORY</th>\n",
       "      <th>TAX CLASS AT PRESENT</th>\n",
       "      <th>BLOCK</th>\n",
       "      <th>LOT</th>\n",
       "      <th>EASE-MENT</th>\n",
       "      <th>BUILDING CLASS AT PRESENT</th>\n",
       "      <th>ADDRESS</th>\n",
       "      <th>APARTMENT NUMBER</th>\n",
       "      <th>...</th>\n",
       "      <th>RESIDENTIAL UNITS</th>\n",
       "      <th>COMMERCIAL UNITS</th>\n",
       "      <th>TOTAL UNITS</th>\n",
       "      <th>LAND SQUARE FEET</th>\n",
       "      <th>GROSS SQUARE FEET</th>\n",
       "      <th>YEAR BUILT</th>\n",
       "      <th>TAX CLASS AT TIME OF SALE</th>\n",
       "      <th>BUILDING CLASS AT TIME OF SALE</th>\n",
       "      <th>SALE PRICE</th>\n",
       "      <th>SALE YEAR</th>\n",
       "    </tr>\n",
       "  </thead>\n",
       "  <tbody>\n",
       "    <tr>\n",
       "      <th>0</th>\n",
       "      <td>1</td>\n",
       "      <td>ALPHABET CITY</td>\n",
       "      <td>07 RENTALS - WALKUP APARTMENTS</td>\n",
       "      <td>2A</td>\n",
       "      <td>392</td>\n",
       "      <td>6</td>\n",
       "      <td></td>\n",
       "      <td>C2</td>\n",
       "      <td>153 AVENUE B</td>\n",
       "      <td></td>\n",
       "      <td>...</td>\n",
       "      <td>5</td>\n",
       "      <td>0</td>\n",
       "      <td>5</td>\n",
       "      <td>1633.0</td>\n",
       "      <td>6440.0</td>\n",
       "      <td>1900</td>\n",
       "      <td>2</td>\n",
       "      <td>C2</td>\n",
       "      <td>6625000.0</td>\n",
       "      <td>2017</td>\n",
       "    </tr>\n",
       "    <tr>\n",
       "      <th>1</th>\n",
       "      <td>1</td>\n",
       "      <td>ALPHABET CITY</td>\n",
       "      <td>07 RENTALS - WALKUP APARTMENTS</td>\n",
       "      <td>2</td>\n",
       "      <td>399</td>\n",
       "      <td>26</td>\n",
       "      <td></td>\n",
       "      <td>C7</td>\n",
       "      <td>234 EAST 4TH   STREET</td>\n",
       "      <td></td>\n",
       "      <td>...</td>\n",
       "      <td>28</td>\n",
       "      <td>3</td>\n",
       "      <td>31</td>\n",
       "      <td>4616.0</td>\n",
       "      <td>18690.0</td>\n",
       "      <td>1900</td>\n",
       "      <td>2</td>\n",
       "      <td>C7</td>\n",
       "      <td>530000.0</td>\n",
       "      <td>2016</td>\n",
       "    </tr>\n",
       "    <tr>\n",
       "      <th>2</th>\n",
       "      <td>1</td>\n",
       "      <td>ALPHABET CITY</td>\n",
       "      <td>07 RENTALS - WALKUP APARTMENTS</td>\n",
       "      <td>2</td>\n",
       "      <td>399</td>\n",
       "      <td>39</td>\n",
       "      <td></td>\n",
       "      <td>C7</td>\n",
       "      <td>197 EAST 3RD   STREET</td>\n",
       "      <td></td>\n",
       "      <td>...</td>\n",
       "      <td>16</td>\n",
       "      <td>1</td>\n",
       "      <td>17</td>\n",
       "      <td>2212.0</td>\n",
       "      <td>7803.0</td>\n",
       "      <td>1900</td>\n",
       "      <td>2</td>\n",
       "      <td>C7</td>\n",
       "      <td>530000.0</td>\n",
       "      <td>2016</td>\n",
       "    </tr>\n",
       "    <tr>\n",
       "      <th>3</th>\n",
       "      <td>1</td>\n",
       "      <td>ALPHABET CITY</td>\n",
       "      <td>07 RENTALS - WALKUP APARTMENTS</td>\n",
       "      <td>2B</td>\n",
       "      <td>402</td>\n",
       "      <td>21</td>\n",
       "      <td></td>\n",
       "      <td>C4</td>\n",
       "      <td>154 EAST 7TH STREET</td>\n",
       "      <td></td>\n",
       "      <td>...</td>\n",
       "      <td>10</td>\n",
       "      <td>0</td>\n",
       "      <td>10</td>\n",
       "      <td>2272.0</td>\n",
       "      <td>6794.0</td>\n",
       "      <td>1913</td>\n",
       "      <td>2</td>\n",
       "      <td>C4</td>\n",
       "      <td>3936272.0</td>\n",
       "      <td>2016</td>\n",
       "    </tr>\n",
       "    <tr>\n",
       "      <th>4</th>\n",
       "      <td>1</td>\n",
       "      <td>ALPHABET CITY</td>\n",
       "      <td>07 RENTALS - WALKUP APARTMENTS</td>\n",
       "      <td>2A</td>\n",
       "      <td>404</td>\n",
       "      <td>55</td>\n",
       "      <td></td>\n",
       "      <td>C2</td>\n",
       "      <td>301 EAST 10TH   STREET</td>\n",
       "      <td></td>\n",
       "      <td>...</td>\n",
       "      <td>6</td>\n",
       "      <td>0</td>\n",
       "      <td>6</td>\n",
       "      <td>2369.0</td>\n",
       "      <td>4615.0</td>\n",
       "      <td>1900</td>\n",
       "      <td>2</td>\n",
       "      <td>C2</td>\n",
       "      <td>8000000.0</td>\n",
       "      <td>2016</td>\n",
       "    </tr>\n",
       "    <tr>\n",
       "      <th>...</th>\n",
       "      <td>...</td>\n",
       "      <td>...</td>\n",
       "      <td>...</td>\n",
       "      <td>...</td>\n",
       "      <td>...</td>\n",
       "      <td>...</td>\n",
       "      <td>...</td>\n",
       "      <td>...</td>\n",
       "      <td>...</td>\n",
       "      <td>...</td>\n",
       "      <td>...</td>\n",
       "      <td>...</td>\n",
       "      <td>...</td>\n",
       "      <td>...</td>\n",
       "      <td>...</td>\n",
       "      <td>...</td>\n",
       "      <td>...</td>\n",
       "      <td>...</td>\n",
       "      <td>...</td>\n",
       "      <td>...</td>\n",
       "      <td>...</td>\n",
       "    </tr>\n",
       "    <tr>\n",
       "      <th>84543</th>\n",
       "      <td>5</td>\n",
       "      <td>WOODROW</td>\n",
       "      <td>02 TWO FAMILY DWELLINGS</td>\n",
       "      <td>1</td>\n",
       "      <td>7349</td>\n",
       "      <td>34</td>\n",
       "      <td></td>\n",
       "      <td>B9</td>\n",
       "      <td>37 QUAIL LANE</td>\n",
       "      <td></td>\n",
       "      <td>...</td>\n",
       "      <td>2</td>\n",
       "      <td>0</td>\n",
       "      <td>2</td>\n",
       "      <td>2400.0</td>\n",
       "      <td>2575.0</td>\n",
       "      <td>1998</td>\n",
       "      <td>1</td>\n",
       "      <td>B9</td>\n",
       "      <td>450000.0</td>\n",
       "      <td>2016</td>\n",
       "    </tr>\n",
       "    <tr>\n",
       "      <th>84544</th>\n",
       "      <td>5</td>\n",
       "      <td>WOODROW</td>\n",
       "      <td>02 TWO FAMILY DWELLINGS</td>\n",
       "      <td>1</td>\n",
       "      <td>7349</td>\n",
       "      <td>78</td>\n",
       "      <td></td>\n",
       "      <td>B9</td>\n",
       "      <td>32 PHEASANT LANE</td>\n",
       "      <td></td>\n",
       "      <td>...</td>\n",
       "      <td>2</td>\n",
       "      <td>0</td>\n",
       "      <td>2</td>\n",
       "      <td>2498.0</td>\n",
       "      <td>2377.0</td>\n",
       "      <td>1998</td>\n",
       "      <td>1</td>\n",
       "      <td>B9</td>\n",
       "      <td>550000.0</td>\n",
       "      <td>2017</td>\n",
       "    </tr>\n",
       "    <tr>\n",
       "      <th>84545</th>\n",
       "      <td>5</td>\n",
       "      <td>WOODROW</td>\n",
       "      <td>02 TWO FAMILY DWELLINGS</td>\n",
       "      <td>1</td>\n",
       "      <td>7351</td>\n",
       "      <td>60</td>\n",
       "      <td></td>\n",
       "      <td>B2</td>\n",
       "      <td>49 PITNEY AVENUE</td>\n",
       "      <td></td>\n",
       "      <td>...</td>\n",
       "      <td>2</td>\n",
       "      <td>0</td>\n",
       "      <td>2</td>\n",
       "      <td>4000.0</td>\n",
       "      <td>1496.0</td>\n",
       "      <td>1925</td>\n",
       "      <td>1</td>\n",
       "      <td>B2</td>\n",
       "      <td>460000.0</td>\n",
       "      <td>2017</td>\n",
       "    </tr>\n",
       "    <tr>\n",
       "      <th>84546</th>\n",
       "      <td>5</td>\n",
       "      <td>WOODROW</td>\n",
       "      <td>22 STORE BUILDINGS</td>\n",
       "      <td>4</td>\n",
       "      <td>7100</td>\n",
       "      <td>28</td>\n",
       "      <td></td>\n",
       "      <td>K6</td>\n",
       "      <td>2730 ARTHUR KILL ROAD</td>\n",
       "      <td></td>\n",
       "      <td>...</td>\n",
       "      <td>0</td>\n",
       "      <td>7</td>\n",
       "      <td>7</td>\n",
       "      <td>208033.0</td>\n",
       "      <td>64117.0</td>\n",
       "      <td>2001</td>\n",
       "      <td>4</td>\n",
       "      <td>K6</td>\n",
       "      <td>11693337.0</td>\n",
       "      <td>2016</td>\n",
       "    </tr>\n",
       "    <tr>\n",
       "      <th>84547</th>\n",
       "      <td>5</td>\n",
       "      <td>WOODROW</td>\n",
       "      <td>35 INDOOR PUBLIC AND CULTURAL FACILITIES</td>\n",
       "      <td>4</td>\n",
       "      <td>7105</td>\n",
       "      <td>679</td>\n",
       "      <td></td>\n",
       "      <td>P9</td>\n",
       "      <td>155 CLAY PIT ROAD</td>\n",
       "      <td></td>\n",
       "      <td>...</td>\n",
       "      <td>0</td>\n",
       "      <td>1</td>\n",
       "      <td>1</td>\n",
       "      <td>10796.0</td>\n",
       "      <td>2400.0</td>\n",
       "      <td>2006</td>\n",
       "      <td>4</td>\n",
       "      <td>P9</td>\n",
       "      <td>69300.0</td>\n",
       "      <td>2016</td>\n",
       "    </tr>\n",
       "  </tbody>\n",
       "</table>\n",
       "<p>84548 rows × 21 columns</p>\n",
       "</div>"
      ],
      "text/plain": [
       "       BOROUGH   NEIGHBORHOOD                      BUILDING CLASS CATEGORY  \\\n",
       "0            1  ALPHABET CITY  07 RENTALS - WALKUP APARTMENTS                \n",
       "1            1  ALPHABET CITY  07 RENTALS - WALKUP APARTMENTS                \n",
       "2            1  ALPHABET CITY  07 RENTALS - WALKUP APARTMENTS                \n",
       "3            1  ALPHABET CITY  07 RENTALS - WALKUP APARTMENTS                \n",
       "4            1  ALPHABET CITY  07 RENTALS - WALKUP APARTMENTS                \n",
       "...        ...            ...                                          ...   \n",
       "84543        5        WOODROW  02 TWO FAMILY DWELLINGS                       \n",
       "84544        5        WOODROW  02 TWO FAMILY DWELLINGS                       \n",
       "84545        5        WOODROW  02 TWO FAMILY DWELLINGS                       \n",
       "84546        5        WOODROW  22 STORE BUILDINGS                            \n",
       "84547        5        WOODROW  35 INDOOR PUBLIC AND CULTURAL FACILITIES      \n",
       "\n",
       "      TAX CLASS AT PRESENT  BLOCK  LOT EASE-MENT BUILDING CLASS AT PRESENT  \\\n",
       "0                       2A    392    6                                  C2   \n",
       "1                        2    399   26                                  C7   \n",
       "2                        2    399   39                                  C7   \n",
       "3                       2B    402   21                                  C4   \n",
       "4                       2A    404   55                                  C2   \n",
       "...                    ...    ...  ...       ...                       ...   \n",
       "84543                    1   7349   34                                  B9   \n",
       "84544                    1   7349   78                                  B9   \n",
       "84545                    1   7351   60                                  B2   \n",
       "84546                    4   7100   28                                  K6   \n",
       "84547                    4   7105  679                                  P9   \n",
       "\n",
       "                      ADDRESS APARTMENT NUMBER  ...  RESIDENTIAL UNITS  \\\n",
       "0                153 AVENUE B                   ...                  5   \n",
       "1       234 EAST 4TH   STREET                   ...                 28   \n",
       "2       197 EAST 3RD   STREET                   ...                 16   \n",
       "3         154 EAST 7TH STREET                   ...                 10   \n",
       "4      301 EAST 10TH   STREET                   ...                  6   \n",
       "...                       ...              ...  ...                ...   \n",
       "84543           37 QUAIL LANE                   ...                  2   \n",
       "84544        32 PHEASANT LANE                   ...                  2   \n",
       "84545        49 PITNEY AVENUE                   ...                  2   \n",
       "84546   2730 ARTHUR KILL ROAD                   ...                  0   \n",
       "84547       155 CLAY PIT ROAD                   ...                  0   \n",
       "\n",
       "       COMMERCIAL UNITS  TOTAL UNITS  LAND SQUARE FEET  GROSS SQUARE FEET  \\\n",
       "0                     0            5            1633.0             6440.0   \n",
       "1                     3           31            4616.0            18690.0   \n",
       "2                     1           17            2212.0             7803.0   \n",
       "3                     0           10            2272.0             6794.0   \n",
       "4                     0            6            2369.0             4615.0   \n",
       "...                 ...          ...               ...                ...   \n",
       "84543                 0            2            2400.0             2575.0   \n",
       "84544                 0            2            2498.0             2377.0   \n",
       "84545                 0            2            4000.0             1496.0   \n",
       "84546                 7            7          208033.0            64117.0   \n",
       "84547                 1            1           10796.0             2400.0   \n",
       "\n",
       "       YEAR BUILT  TAX CLASS AT TIME OF SALE  BUILDING CLASS AT TIME OF SALE  \\\n",
       "0            1900                          2                              C2   \n",
       "1            1900                          2                              C7   \n",
       "2            1900                          2                              C7   \n",
       "3            1913                          2                              C4   \n",
       "4            1900                          2                              C2   \n",
       "...           ...                        ...                             ...   \n",
       "84543        1998                          1                              B9   \n",
       "84544        1998                          1                              B9   \n",
       "84545        1925                          1                              B2   \n",
       "84546        2001                          4                              K6   \n",
       "84547        2006                          4                              P9   \n",
       "\n",
       "       SALE PRICE  SALE YEAR  \n",
       "0       6625000.0       2017  \n",
       "1        530000.0       2016  \n",
       "2        530000.0       2016  \n",
       "3       3936272.0       2016  \n",
       "4       8000000.0       2016  \n",
       "...           ...        ...  \n",
       "84543    450000.0       2016  \n",
       "84544    550000.0       2017  \n",
       "84545    460000.0       2017  \n",
       "84546  11693337.0       2016  \n",
       "84547     69300.0       2016  \n",
       "\n",
       "[84548 rows x 21 columns]"
      ]
     },
     "execution_count": 8,
     "metadata": {},
     "output_type": "execute_result"
    }
   ],
   "source": [
    "df.drop(['Unnamed: 0'], axis=1, inplace=True)\n",
    "df.drop(['SALE DATE'], axis=1, inplace=True)\n",
    "df"
   ]
  },
  {
   "cell_type": "markdown",
   "id": "5f5e9fb0",
   "metadata": {},
   "source": [
    "# Check Outliers"
   ]
  },
  {
   "cell_type": "code",
   "execution_count": 9,
   "id": "ff7397d0",
   "metadata": {},
   "outputs": [
    {
     "data": {
      "image/png": "[encoded data removed]",
      "text/plain": [
       "<Figure size 432x288 with 1 Axes>"
      ]
     },
     "metadata": {
      "needs_background": "light"
     },
     "output_type": "display_data"
    }
   ],
   "source": [
    "df.boxplot(column=['SALE PRICE','LAND SQUARE FEET','GROSS SQUARE FEET'])\n",
    "plt.show()"
   ]
  },
  {
   "cell_type": "markdown",
   "id": "cf90b7d8",
   "metadata": {},
   "source": [
    "Berdasarkan boxplot di atas, outlier terbanyak ada pada SALE PRICE. Oleh karena itu, kami akan membuang outlier pada kolom sale price"
   ]
  },
  {
   "cell_type": "code",
   "execution_count": 10,
   "id": "3ead8af5",
   "metadata": {},
   "outputs": [
    {
     "name": "stdout",
     "output_type": "stream",
     "text": [
      "Q1: \n",
      " 300000.0\n",
      "Q3: \n",
      " 830000.0\n"
     ]
    }
   ],
   "source": [
    "Q1 = df['SALE PRICE'].quantile(0.25)\n",
    "Q3 = df['SALE PRICE'].quantile(0.75)\n",
    "print('Q1: \\n',Q1)\n",
    "print('Q3: \\n',Q3)"
   ]
  },
  {
   "cell_type": "code",
   "execution_count": 11,
   "id": "ee49d1c7",
   "metadata": {},
   "outputs": [
    {
     "name": "stdout",
     "output_type": "stream",
     "text": [
      "530000.0\n"
     ]
    }
   ],
   "source": [
    "IQR = Q3 - Q1\n",
    "print(IQR)"
   ]
  },
  {
   "cell_type": "code",
   "execution_count": 12,
   "id": "0c48dacc",
   "metadata": {},
   "outputs": [
    {
     "data": {
      "text/plain": [
       "(75803, 21)"
      ]
     },
     "execution_count": 12,
     "metadata": {},
     "output_type": "execute_result"
    }
   ],
   "source": [
    "df = df[~((df['SALE PRICE'] < (Q1-1.5*IQR))|(df['SALE PRICE']>(Q3+1.5*IQR)))]\n",
    "df.shape"
   ]
  },
  {
   "cell_type": "markdown",
   "id": "204dc175",
   "metadata": {},
   "source": [
    "# Data Visualization"
   ]
  },
  {
   "cell_type": "code",
   "execution_count": 13,
   "id": "944da339",
   "metadata": {},
   "outputs": [
    {
     "data": {
      "text/plain": [
       "4    26133\n",
       "3    21639\n",
       "1    12942\n",
       "5     8347\n",
       "2     6742\n",
       "Name: BOROUGH, dtype: int64"
      ]
     },
     "execution_count": 13,
     "metadata": {},
     "output_type": "execute_result"
    }
   ],
   "source": [
    "df['BOROUGH'].value_counts()"
   ]
  },
  {
   "cell_type": "code",
   "execution_count": 14,
   "id": "2a83a05c",
   "metadata": {},
   "outputs": [
    {
     "data": {
      "image/png": "[encoded data removed]",
      "text/plain": [
       "<Figure size 432x288 with 1 Axes>"
      ]
     },
     "metadata": {
      "needs_background": "light"
     },
     "output_type": "display_data"
    }
   ],
   "source": [
    "df['BOROUGH'].value_counts().plot(kind='bar')\n",
    "plt.title('Number of Properties in each Borough')\n",
    "plt.show()"
   ]
  },
  {
   "cell_type": "markdown",
   "id": "494fc8bb",
   "metadata": {},
   "source": [
    "Keterangan:<br>\n",
    "`1:` Manhattan <br>\n",
    "`2:` Bronx<br>\n",
    "`3:` Brooklyn<br>\n",
    "`4:` Queens<br>\n",
    "`5:` Staten Island"
   ]
  },
  {
   "cell_type": "markdown",
   "id": "d16569f9",
   "metadata": {},
   "source": [
    "# Measure of Central Tendency"
   ]
  },
  {
   "cell_type": "markdown",
   "id": "3db088f3",
   "metadata": {},
   "source": [
    "Berdasarkan informasi di atas dapat dilihat bahwa sebagian besar properti terletak pada wilayah Queens yang dilambangkan dengan digit code 4. Oleh karena itu, kita akan melihat rata-rata, median, dan modus dari land square feet properti-properti yang ada di wilayah Queens."
   ]
  },
  {
   "cell_type": "markdown",
   "id": "1939b1f8",
   "metadata": {},
   "source": [
    "### Mean of Land Square Feet in Queens"
   ]
  },
  {
   "cell_type": "code",
   "execution_count": 15,
   "id": "e59d5958",
   "metadata": {},
   "outputs": [
    {
     "data": {
      "text/plain": [
       "3489.9928060306893"
      ]
     },
     "execution_count": 15,
     "metadata": {},
     "output_type": "execute_result"
    }
   ],
   "source": [
    "df[df['BOROUGH']==4]['LAND SQUARE FEET'].mean()"
   ]
  },
  {
   "cell_type": "markdown",
   "id": "2a2e3144",
   "metadata": {},
   "source": [
    "Average number of land square feet of properties in Queens is 3489.99 sq ft"
   ]
  },
  {
   "cell_type": "markdown",
   "id": "5ea93dc4",
   "metadata": {},
   "source": [
    "### Median of Land Square Feet in Queens"
   ]
  },
  {
   "cell_type": "code",
   "execution_count": 16,
   "id": "b4c40349",
   "metadata": {},
   "outputs": [
    {
     "data": {
      "text/plain": [
       "2325.0"
      ]
     },
     "execution_count": 16,
     "metadata": {},
     "output_type": "execute_result"
    }
   ],
   "source": [
    "df[df['BOROUGH']==4]['LAND SQUARE FEET'].quantile(0.5)"
   ]
  },
  {
   "cell_type": "markdown",
   "id": "96e4fd61",
   "metadata": {},
   "source": [
    "The median of land square feet of properties in Queens is 2325"
   ]
  },
  {
   "cell_type": "markdown",
   "id": "4c92ee07",
   "metadata": {},
   "source": [
    "### Mode of Land Square Feet in Queens"
   ]
  },
  {
   "cell_type": "code",
   "execution_count": 17,
   "id": "93698221",
   "metadata": {},
   "outputs": [
    {
     "data": {
      "text/plain": [
       "0    2325.0\n",
       "dtype: float64"
      ]
     },
     "execution_count": 17,
     "metadata": {},
     "output_type": "execute_result"
    }
   ],
   "source": [
    "df[df['BOROUGH']==4]['LAND SQUARE FEET'].mode()"
   ]
  },
  {
   "cell_type": "markdown",
   "id": "0fd4f4e9",
   "metadata": {},
   "source": [
    "Most properties in Queens have approximately 2325 sq ft of land"
   ]
  },
  {
   "cell_type": "markdown",
   "id": "3980ad68",
   "metadata": {},
   "source": [
    "# Measure of Spread"
   ]
  },
  {
   "cell_type": "markdown",
   "id": "d90471c8",
   "metadata": {},
   "source": [
    "Berdasarkan informasi di atas dapat dilihat bahwa sebagian besar properti terletak pada wilayah Queens yang dilambangkan dengan digit code 4. Oleh karena itu, kita akan melihat range, variance, dan median dari land square feet properti-properti yang ada di wilayah Queens."
   ]
  },
  {
   "cell_type": "markdown",
   "id": "e8fe7f94",
   "metadata": {},
   "source": [
    "### Range of Land Square Feet in Queens"
   ]
  },
  {
   "cell_type": "code",
   "execution_count": 18,
   "id": "fb04449d",
   "metadata": {},
   "outputs": [
    {
     "data": {
      "text/plain": [
       "4228300.0"
      ]
     },
     "execution_count": 18,
     "metadata": {},
     "output_type": "execute_result"
    }
   ],
   "source": [
    "df[df['BOROUGH']==4]['LAND SQUARE FEET'].max()"
   ]
  },
  {
   "cell_type": "markdown",
   "id": "b2525805",
   "metadata": {},
   "source": [
    "Luas tanah properti di wilayah Queens yang paling besar bernilai sebesar 4.228.300 sq ft"
   ]
  },
  {
   "cell_type": "code",
   "execution_count": 19,
   "id": "163d3a6d",
   "metadata": {},
   "outputs": [
    {
     "data": {
      "text/plain": [
       "7.0"
      ]
     },
     "execution_count": 19,
     "metadata": {},
     "output_type": "execute_result"
    }
   ],
   "source": [
    "df[df['BOROUGH']==4]['LAND SQUARE FEET'].min()"
   ]
  },
  {
   "cell_type": "markdown",
   "id": "23a89ebf",
   "metadata": {},
   "source": [
    "Luas tanah properti di wilayah Queens yang paling kecil bernilai sebesar 7.0 sq ft"
   ]
  },
  {
   "cell_type": "code",
   "execution_count": 20,
   "id": "a00bc3ed",
   "metadata": {},
   "outputs": [
    {
     "data": {
      "text/plain": [
       "4228293.0"
      ]
     },
     "execution_count": 20,
     "metadata": {},
     "output_type": "execute_result"
    }
   ],
   "source": [
    "df[df['BOROUGH']==4]['LAND SQUARE FEET'].max() - df[df['BOROUGH']==4]['LAND SQUARE FEET'].min()"
   ]
  },
  {
   "cell_type": "markdown",
   "id": "5507851a",
   "metadata": {},
   "source": [
    "Perbedaan luas tanah terbesar dan terkecil pada properti di wilayah Queens cukup signifikan yaitu sebesar 4.228.293. Hal ini dapat disebabkan oleh jenis properti yang dijual."
   ]
  },
  {
   "cell_type": "markdown",
   "id": "d2b67a02",
   "metadata": {},
   "source": [
    "### Variance of Land Square Feet in Queens"
   ]
  },
  {
   "cell_type": "code",
   "execution_count": 21,
   "id": "beb63d33",
   "metadata": {},
   "outputs": [
    {
     "data": {
      "text/plain": [
       "1413403906.316098"
      ]
     },
     "execution_count": 21,
     "metadata": {},
     "output_type": "execute_result"
    }
   ],
   "source": [
    "df[df['BOROUGH']==4]['LAND SQUARE FEET'].var()"
   ]
  },
  {
   "cell_type": "markdown",
   "id": "d6925881",
   "metadata": {},
   "source": [
    "Variance dari luas tanah di Wilayah Queens yaitu sebesar 1413403906.32 yang artinya lebih besar dari mean dan dapat dikatakan terjadi perbedaan yang signifikan antara nilai terkecil dan nilai terbesar."
   ]
  },
  {
   "cell_type": "markdown",
   "id": "2b99066f",
   "metadata": {},
   "source": [
    "### Standard Deviation of Land Square Feet in Queens"
   ]
  },
  {
   "cell_type": "code",
   "execution_count": 22,
   "id": "f41178d0",
   "metadata": {},
   "outputs": [
    {
     "data": {
      "text/plain": [
       "37595.26441343508"
      ]
     },
     "execution_count": 22,
     "metadata": {},
     "output_type": "execute_result"
    }
   ],
   "source": [
    "df[df['BOROUGH']==4]['LAND SQUARE FEET'].std()"
   ]
  },
  {
   "cell_type": "markdown",
   "id": "aa7a8111",
   "metadata": {},
   "source": [
    "Standar deviasi dari luas tanah di wilayah Queens sebesar 37595.26"
   ]
  },
  {
   "cell_type": "markdown",
   "id": "9a8a5afc",
   "metadata": {},
   "source": [
    "# Probability Distribution"
   ]
  },
  {
   "cell_type": "markdown",
   "id": "50f8924d",
   "metadata": {},
   "source": [
    "### Distribution of the Age of the Property when Sold in NYC"
   ]
  },
  {
   "cell_type": "code",
   "execution_count": 23,
   "id": "7a85c544",
   "metadata": {},
   "outputs": [],
   "source": [
    "df['Age of Properties'] = df['SALE YEAR'] - df['YEAR BUILT']"
   ]
  },
  {
   "cell_type": "code",
   "execution_count": 24,
   "id": "fb26f61b",
   "metadata": {},
   "outputs": [
    {
     "data": {
      "text/html": [
       "<div>\n",
       "<style scoped>\n",
       "    .dataframe tbody tr th:only-of-type {\n",
       "        vertical-align: middle;\n",
       "    }\n",
       "\n",
       "    .dataframe tbody tr th {\n",
       "        vertical-align: top;\n",
       "    }\n",
       "\n",
       "    .dataframe thead th {\n",
       "        text-align: right;\n",
       "    }\n",
       "</style>\n",
       "<table border=\"1\" class=\"dataframe\">\n",
       "  <thead>\n",
       "    <tr style=\"text-align: right;\">\n",
       "      <th></th>\n",
       "      <th>BOROUGH</th>\n",
       "      <th>NEIGHBORHOOD</th>\n",
       "      <th>BUILDING CLASS CATEGORY</th>\n",
       "      <th>TAX CLASS AT PRESENT</th>\n",
       "      <th>BLOCK</th>\n",
       "      <th>LOT</th>\n",
       "      <th>EASE-MENT</th>\n",
       "      <th>BUILDING CLASS AT PRESENT</th>\n",
       "      <th>ADDRESS</th>\n",
       "      <th>APARTMENT NUMBER</th>\n",
       "      <th>...</th>\n",
       "      <th>COMMERCIAL UNITS</th>\n",
       "      <th>TOTAL UNITS</th>\n",
       "      <th>LAND SQUARE FEET</th>\n",
       "      <th>GROSS SQUARE FEET</th>\n",
       "      <th>YEAR BUILT</th>\n",
       "      <th>TAX CLASS AT TIME OF SALE</th>\n",
       "      <th>BUILDING CLASS AT TIME OF SALE</th>\n",
       "      <th>SALE PRICE</th>\n",
       "      <th>SALE YEAR</th>\n",
       "      <th>Age of Properties</th>\n",
       "    </tr>\n",
       "  </thead>\n",
       "  <tbody>\n",
       "    <tr>\n",
       "      <th>1</th>\n",
       "      <td>1</td>\n",
       "      <td>ALPHABET CITY</td>\n",
       "      <td>07 RENTALS - WALKUP APARTMENTS</td>\n",
       "      <td>2</td>\n",
       "      <td>399</td>\n",
       "      <td>26</td>\n",
       "      <td></td>\n",
       "      <td>C7</td>\n",
       "      <td>234 EAST 4TH   STREET</td>\n",
       "      <td></td>\n",
       "      <td>...</td>\n",
       "      <td>3</td>\n",
       "      <td>31</td>\n",
       "      <td>4616.0</td>\n",
       "      <td>18690.0</td>\n",
       "      <td>1900</td>\n",
       "      <td>2</td>\n",
       "      <td>C7</td>\n",
       "      <td>530000.0</td>\n",
       "      <td>2016</td>\n",
       "      <td>116</td>\n",
       "    </tr>\n",
       "    <tr>\n",
       "      <th>2</th>\n",
       "      <td>1</td>\n",
       "      <td>ALPHABET CITY</td>\n",
       "      <td>07 RENTALS - WALKUP APARTMENTS</td>\n",
       "      <td>2</td>\n",
       "      <td>399</td>\n",
       "      <td>39</td>\n",
       "      <td></td>\n",
       "      <td>C7</td>\n",
       "      <td>197 EAST 3RD   STREET</td>\n",
       "      <td></td>\n",
       "      <td>...</td>\n",
       "      <td>1</td>\n",
       "      <td>17</td>\n",
       "      <td>2212.0</td>\n",
       "      <td>7803.0</td>\n",
       "      <td>1900</td>\n",
       "      <td>2</td>\n",
       "      <td>C7</td>\n",
       "      <td>530000.0</td>\n",
       "      <td>2016</td>\n",
       "      <td>116</td>\n",
       "    </tr>\n",
       "    <tr>\n",
       "      <th>5</th>\n",
       "      <td>1</td>\n",
       "      <td>ALPHABET CITY</td>\n",
       "      <td>07 RENTALS - WALKUP APARTMENTS</td>\n",
       "      <td>2</td>\n",
       "      <td>405</td>\n",
       "      <td>16</td>\n",
       "      <td></td>\n",
       "      <td>C4</td>\n",
       "      <td>516 EAST 12TH   STREET</td>\n",
       "      <td></td>\n",
       "      <td>...</td>\n",
       "      <td>0</td>\n",
       "      <td>20</td>\n",
       "      <td>2581.0</td>\n",
       "      <td>9730.0</td>\n",
       "      <td>1900</td>\n",
       "      <td>2</td>\n",
       "      <td>C4</td>\n",
       "      <td>530000.0</td>\n",
       "      <td>2017</td>\n",
       "      <td>117</td>\n",
       "    </tr>\n",
       "    <tr>\n",
       "      <th>7</th>\n",
       "      <td>1</td>\n",
       "      <td>ALPHABET CITY</td>\n",
       "      <td>07 RENTALS - WALKUP APARTMENTS</td>\n",
       "      <td>2</td>\n",
       "      <td>407</td>\n",
       "      <td>18</td>\n",
       "      <td></td>\n",
       "      <td>C7</td>\n",
       "      <td>520 EAST 14TH   STREET</td>\n",
       "      <td></td>\n",
       "      <td>...</td>\n",
       "      <td>2</td>\n",
       "      <td>46</td>\n",
       "      <td>5163.0</td>\n",
       "      <td>21007.0</td>\n",
       "      <td>1900</td>\n",
       "      <td>2</td>\n",
       "      <td>C7</td>\n",
       "      <td>530000.0</td>\n",
       "      <td>2017</td>\n",
       "      <td>117</td>\n",
       "    </tr>\n",
       "    <tr>\n",
       "      <th>8</th>\n",
       "      <td>1</td>\n",
       "      <td>ALPHABET CITY</td>\n",
       "      <td>08 RENTALS - ELEVATOR APARTMENTS</td>\n",
       "      <td>2</td>\n",
       "      <td>379</td>\n",
       "      <td>34</td>\n",
       "      <td></td>\n",
       "      <td>D5</td>\n",
       "      <td>141 AVENUE D</td>\n",
       "      <td></td>\n",
       "      <td>...</td>\n",
       "      <td>0</td>\n",
       "      <td>15</td>\n",
       "      <td>1534.0</td>\n",
       "      <td>9198.0</td>\n",
       "      <td>1920</td>\n",
       "      <td>2</td>\n",
       "      <td>D5</td>\n",
       "      <td>530000.0</td>\n",
       "      <td>2017</td>\n",
       "      <td>97</td>\n",
       "    </tr>\n",
       "  </tbody>\n",
       "</table>\n",
       "<p>5 rows × 22 columns</p>\n",
       "</div>"
      ],
      "text/plain": [
       "   BOROUGH   NEIGHBORHOOD                      BUILDING CLASS CATEGORY  \\\n",
       "1        1  ALPHABET CITY  07 RENTALS - WALKUP APARTMENTS                \n",
       "2        1  ALPHABET CITY  07 RENTALS - WALKUP APARTMENTS                \n",
       "5        1  ALPHABET CITY  07 RENTALS - WALKUP APARTMENTS                \n",
       "7        1  ALPHABET CITY  07 RENTALS - WALKUP APARTMENTS                \n",
       "8        1  ALPHABET CITY  08 RENTALS - ELEVATOR APARTMENTS              \n",
       "\n",
       "  TAX CLASS AT PRESENT  BLOCK  LOT EASE-MENT BUILDING CLASS AT PRESENT  \\\n",
       "1                    2    399   26                                  C7   \n",
       "2                    2    399   39                                  C7   \n",
       "5                    2    405   16                                  C4   \n",
       "7                    2    407   18                                  C7   \n",
       "8                    2    379   34                                  D5   \n",
       "\n",
       "                  ADDRESS APARTMENT NUMBER  ...  COMMERCIAL UNITS  \\\n",
       "1   234 EAST 4TH   STREET                   ...                 3   \n",
       "2   197 EAST 3RD   STREET                   ...                 1   \n",
       "5  516 EAST 12TH   STREET                   ...                 0   \n",
       "7  520 EAST 14TH   STREET                   ...                 2   \n",
       "8            141 AVENUE D                   ...                 0   \n",
       "\n",
       "   TOTAL UNITS  LAND SQUARE FEET  GROSS SQUARE FEET  YEAR BUILT  \\\n",
       "1           31            4616.0            18690.0        1900   \n",
       "2           17            2212.0             7803.0        1900   \n",
       "5           20            2581.0             9730.0        1900   \n",
       "7           46            5163.0            21007.0        1900   \n",
       "8           15            1534.0             9198.0        1920   \n",
       "\n",
       "   TAX CLASS AT TIME OF SALE  BUILDING CLASS AT TIME OF SALE  SALE PRICE  \\\n",
       "1                          2                              C7    530000.0   \n",
       "2                          2                              C7    530000.0   \n",
       "5                          2                              C4    530000.0   \n",
       "7                          2                              C7    530000.0   \n",
       "8                          2                              D5    530000.0   \n",
       "\n",
       "  SALE YEAR  Age of Properties  \n",
       "1      2016                116  \n",
       "2      2016                116  \n",
       "5      2017                117  \n",
       "7      2017                117  \n",
       "8      2017                 97  \n",
       "\n",
       "[5 rows x 22 columns]"
      ]
     },
     "execution_count": 24,
     "metadata": {},
     "output_type": "execute_result"
    }
   ],
   "source": [
    "df2 = df[df['YEAR BUILT']>0]\n",
    "df2.head()"
   ]
  },
  {
   "cell_type": "code",
   "execution_count": 25,
   "id": "415911b2",
   "metadata": {},
   "outputs": [
    {
     "name": "stdout",
     "output_type": "stream",
     "text": [
      "p-value from the test Anderson-Darling test below 0.05 generally means non-normal: 0.0\n"
     ]
    },
    {
     "data": {
      "image/png": "[encoded data removed]",
      "text/plain": [
       "<Figure size 576x288 with 1 Axes>"
      ]
     },
     "metadata": {
      "needs_background": "light"
     },
     "output_type": "display_data"
    },
    {
     "name": "stdout",
     "output_type": "stream",
     "text": [
      "Age of Properties are not normally distributed\n"
     ]
    }
   ],
   "source": [
    "p_value = normal_ad(df2['Age of Properties'])[1]\n",
    "print('p-value from the test Anderson-Darling test below 0.05 generally means non-normal:', p_value)\n",
    "\n",
    "\n",
    "plt.subplots(figsize=(8, 4))\n",
    "plt.title('Distribution of the Age of the Property when Sold in NYC', fontsize=12)\n",
    "sns.distplot(df2['Age of Properties'])\n",
    "plt.show()\n",
    "\n",
    "\n",
    "if p_value < 0.05:\n",
    "    print('Age of Properties are not normally distributed')\n",
    "else:\n",
    "    print('Age of Properties normally distributed')"
   ]
  },
  {
   "cell_type": "code",
   "execution_count": 26,
   "id": "d4adf988",
   "metadata": {},
   "outputs": [
    {
     "data": {
      "text/plain": [
       "-0.42107058974195444"
      ]
     },
     "execution_count": 26,
     "metadata": {},
     "output_type": "execute_result"
    }
   ],
   "source": [
    "df2['Age of Properties'].skew()"
   ]
  },
  {
   "cell_type": "code",
   "execution_count": 27,
   "id": "05d8ed46",
   "metadata": {},
   "outputs": [
    {
     "name": "stdout",
     "output_type": "stream",
     "text": [
      "mean: 66.56967412799862\n",
      "std: 33.115568868049145\n"
     ]
    }
   ],
   "source": [
    "print('mean:',df2['Age of Properties'].mean())\n",
    "print('std:', df2['Age of Properties'].std())"
   ]
  },
  {
   "cell_type": "markdown",
   "id": "a9e80870",
   "metadata": {},
   "source": [
    "Berdasarkan visualisasi di atas dapat dikatakan bahwa data umur properti di NYC ketika dijual memiliki skewness sebesar -0.421, dengan kata lain data umur properti di NYC ketika dijual tergolong symmetric (Rule of Thumb symmetric: [-0.5, 0.5]). Dalam hal ini persebaran data umur properti ketika dijual berada di range mean ± 1 * std, yaitu berada pada rentang  33.46 ⩽ Umur Properti ⩽ 99.68. Akan tetapi berdasarkan Anderson Darling Test, distribusi dari age of properties ketika dijual di NYC tidak berdistribusi normal"
   ]
  },
  {
   "cell_type": "markdown",
   "id": "64cc4a6f",
   "metadata": {},
   "source": [
    "# Confidence Interval"
   ]
  },
  {
   "cell_type": "code",
   "execution_count": 28,
   "id": "4c15e718",
   "metadata": {},
   "outputs": [
    {
     "data": {
      "text/plain": [
       "FLUSHING-NORTH             2924\n",
       "BEDFORD STUYVESANT         1259\n",
       "UPPER EAST SIDE (59-79)    1214\n",
       "BOROUGH PARK               1146\n",
       "BAYSIDE                    1131\n",
       "Name: NEIGHBORHOOD, dtype: int64"
      ]
     },
     "execution_count": 28,
     "metadata": {},
     "output_type": "execute_result"
    }
   ],
   "source": [
    "df['NEIGHBORHOOD'].value_counts().head(5)"
   ]
  },
  {
   "cell_type": "markdown",
   "id": "00311692",
   "metadata": {},
   "source": [
    "Berdasarkan data di atas, flushing-north merupakan neighborhood dengan jumlah properti yang paling banyak. Oleh karena itu kita akan mengetahui Confidence Interval untuk mean total unit pada populasi Neighborhood Flushing-North"
   ]
  },
  {
   "cell_type": "code",
   "execution_count": 29,
   "id": "5c15cf25",
   "metadata": {},
   "outputs": [],
   "source": [
    "avg = df[df['NEIGHBORHOOD']=='FLUSHING-NORTH']['TOTAL UNITS'].mean()\n",
    "std = df[df['NEIGHBORHOOD']=='FLUSHING-NORTH']['TOTAL UNITS'].std()\n",
    "n = len(df[df['NEIGHBORHOOD']=='FLUSHING-NORTH'])\n",
    "z = 1.96 #z score untuk Confidence Level 95%"
   ]
  },
  {
   "cell_type": "code",
   "execution_count": 30,
   "id": "fd4fa1a5",
   "metadata": {},
   "outputs": [],
   "source": [
    "se = std/ np.sqrt(n)"
   ]
  },
  {
   "cell_type": "code",
   "execution_count": 31,
   "id": "3960d220",
   "metadata": {},
   "outputs": [
    {
     "name": "stdout",
     "output_type": "stream",
     "text": [
      "Confidence Interval: [ 1.11281725283216 , 1.4610541561965678 ]\n"
     ]
    }
   ],
   "source": [
    "lcb = avg - z * se\n",
    "ucb = avg + z * se\n",
    "print('Confidence Interval: [',lcb,',',ucb,']')"
   ]
  },
  {
   "cell_type": "markdown",
   "id": "c38025d5",
   "metadata": {},
   "source": [
    "The true mean of the total units in Flushing-North Neighborhood will fall between 1.11 and 1.46"
   ]
  },
  {
   "cell_type": "markdown",
   "id": "f1bc3f39",
   "metadata": {},
   "source": [
    "# Hypothesis Testing using Friedman Test"
   ]
  },
  {
   "cell_type": "markdown",
   "id": "6a2334f7",
   "metadata": {},
   "source": [
    "$H_0$ : **`The Sale Prices of Properties in Manhattan, Bronx, Brooklyn, Queens, Staten Island is equal`** <br>\n",
    "$H_1$ : **`The Sale Prices of Properties in NYC at least differ in 2 boroughs`** <br>"
   ]
  },
  {
   "cell_type": "code",
   "execution_count": 32,
   "id": "e4113cf8",
   "metadata": {},
   "outputs": [],
   "source": [
    "data1 = df[df['BOROUGH']==1]['SALE PRICE'].sample(1000, random_state=1).to_list()\n",
    "data2 = df[df['BOROUGH']==2]['SALE PRICE'].sample(1000, random_state=1).to_list()\n",
    "data3 = df[df['BOROUGH']==3]['SALE PRICE'].sample(1000, random_state=1).to_list()\n",
    "data4 = df[df['BOROUGH']==4]['SALE PRICE'].sample(1000, random_state=1).to_list()\n",
    "data5 = df[df['BOROUGH']==5]['SALE PRICE'].sample(1000, random_state=1).to_list()"
   ]
  },
  {
   "cell_type": "code",
   "execution_count": 33,
   "id": "521acc41",
   "metadata": {},
   "outputs": [
    {
     "name": "stdout",
     "output_type": "stream",
     "text": [
      "stat=831.980, p=0.000\n",
      "The Sale Prices of Properties in NYC at least differ in 2 boroughs\n"
     ]
    }
   ],
   "source": [
    "stat, p = friedmanchisquare(data1,data2,data3,data4,data5)\n",
    "print('stat=%.3f, p=%.3f' %(stat,p))\n",
    "if p > 0.05:\n",
    "    print('The Sale Prices of Properties in Manhattan, Bronx, Brooklyn, Queens, Staten Island is equal')\n",
    "else: \n",
    "    print('The Sale Prices of Properties in NYC at least differ in 2 boroughs')"
   ]
  },
  {
   "cell_type": "markdown",
   "id": "4f71b329",
   "metadata": {},
   "source": [
    "Berdasarkan hasil uji hipotesis dengan menggunakan friedman test, dapat dikatakan Reject H0 karena p-value < 0.05. Oleh karena itu, dapat disimpulkan bahwa harga jual properti dari kelima wilayah di NYC (Manhattan, Bronx Brooklyn, Queens, Staten Island) setidaknya berbeda di dua wilayah"
   ]
  },
  {
   "cell_type": "markdown",
   "id": "65565700",
   "metadata": {},
   "source": [
    "# Conclusion"
   ]
  },
  {
   "cell_type": "markdown",
   "id": "8cc18250",
   "metadata": {},
   "source": [
    "1. Properti yang banyak terjual di NYC adalah di wilayah Queens\n",
    "2. Rata-rata luas tanah properti di Queens adalah sebesar 3489.99 sq ft\n",
    "3. Median dan modus luas tanah properti di Queens adalah sebesar 2325 sq ft\n",
    "4. Luas tanah properti di wilayah Queens yang paling besar bernilai sebesar 4.228.300 sq ft\n",
    "5. Luas tanah properti di wilayah Queens yang paling kecil bernilai sebesar 7.0 sq ft\n",
    "6. Perbedaan luas tanah terbesar dan terkecil pada properti di wilayah Queens cukup signifikan yaitu sebesar 4.228.293 sq ft\n",
    "7. Variance dari luas tanah di Wilayah Queens yaitu sebesar 1413403906.32\n",
    "8. Standar deviasi dari luas tanah di wilayah Queens sebesar 37595.26\n",
    "9. Distribusi dari umur properti ketika dijual tidak termasuk distribusi normal. Persebaran data umur properti ketika dijual berada di range mean ± 1 * std, yaitu berada pada rentang 33.46 ⩽ Umur Properti ⩽ 99.68.\n",
    "10. Rata-rata sebenarnya dari total unit di Flushing-North Neighborhood antara 1,11 dan 1,46\n",
    "11. Harga jual properti dari kelima wilayah di NYC (Manhattan, Bronx Brooklyn, Queens, Staten Island) setidaknya berbeda di dua wilayah"
   ]
  }
 ],
 "metadata": {
  "kernelspec": {
   "display_name": "Python 3 (ipykernel)",
   "language": "python",
   "name": "python3"
  },
  "language_info": {
   "codemirror_mode": {
    "name": "ipython",
    "version": 3
   },
   "file_extension": ".py",
   "mimetype": "text/x-python",
   "name": "python",
   "nbconvert_exporter": "python",
   "pygments_lexer": "ipython3",
   "version": "3.7.13"
  }
 },
 "nbformat": 4,
 "nbformat_minor": 5
}
