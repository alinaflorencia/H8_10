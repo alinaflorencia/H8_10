{
 "cells": [
  {
   "cell_type": "code",
   "execution_count": 1,
   "id": "6ee83699",
   "metadata": {},
   "outputs": [
    {
     "name": "stdout",
     "output_type": "stream",
     "text": [
      "Hello World\n"
     ]
    }
   ],
   "source": [
    "print(\"Hello World\")"
   ]
  },
  {
   "cell_type": "code",
   "execution_count": 2,
   "id": "cbb57c37",
   "metadata": {},
   "outputs": [
    {
     "name": "stdout",
     "output_type": "stream",
     "text": [
      "3513\n"
     ]
    }
   ],
   "source": [
    "print(3513)"
   ]
  },
  {
   "cell_type": "code",
   "execution_count": 3,
   "id": "0a6ab5e4",
   "metadata": {},
   "outputs": [
    {
     "data": {
      "text/plain": [
       "int"
      ]
     },
     "execution_count": 3,
     "metadata": {},
     "output_type": "execute_result"
    }
   ],
   "source": [
    "type(3513)"
   ]
  },
  {
   "cell_type": "code",
   "execution_count": 4,
   "id": "b2cc2858",
   "metadata": {},
   "outputs": [
    {
     "name": "stdout",
     "output_type": "stream",
     "text": [
      "3.2\n"
     ]
    }
   ],
   "source": [
    "print(3.2)"
   ]
  },
  {
   "cell_type": "code",
   "execution_count": 5,
   "id": "1752ffc1",
   "metadata": {},
   "outputs": [
    {
     "data": {
      "text/plain": [
       "float"
      ]
     },
     "execution_count": 5,
     "metadata": {},
     "output_type": "execute_result"
    }
   ],
   "source": [
    "type(3.2)"
   ]
  },
  {
   "cell_type": "code",
   "execution_count": 7,
   "id": "9db9047e",
   "metadata": {},
   "outputs": [
    {
     "name": "stdout",
     "output_type": "stream",
     "text": [
      "(3+2j)\n"
     ]
    }
   ],
   "source": [
    "print(3+2j)"
   ]
  },
  {
   "cell_type": "code",
   "execution_count": 8,
   "id": "8d1299b4",
   "metadata": {},
   "outputs": [
    {
     "data": {
      "text/plain": [
       "complex"
      ]
     },
     "execution_count": 8,
     "metadata": {},
     "output_type": "execute_result"
    }
   ],
   "source": [
    "type(3+2j)"
   ]
  },
  {
   "cell_type": "code",
   "execution_count": 9,
   "id": "8291b7bb",
   "metadata": {},
   "outputs": [
    {
     "name": "stdout",
     "output_type": "stream",
     "text": [
      "7.0\n"
     ]
    },
    {
     "data": {
      "text/plain": [
       "float"
      ]
     },
     "execution_count": 9,
     "metadata": {},
     "output_type": "execute_result"
    }
   ],
   "source": [
    "print(7.0)\n",
    "type(7.0)"
   ]
  },
  {
   "cell_type": "code",
   "execution_count": 10,
   "id": "2eb30871",
   "metadata": {},
   "outputs": [
    {
     "name": "stdout",
     "output_type": "stream",
     "text": [
      "True\n"
     ]
    }
   ],
   "source": [
    "print(True)"
   ]
  },
  {
   "cell_type": "code",
   "execution_count": 11,
   "id": "1fe8891f",
   "metadata": {},
   "outputs": [
    {
     "data": {
      "text/plain": [
       "bool"
      ]
     },
     "execution_count": 11,
     "metadata": {},
     "output_type": "execute_result"
    }
   ],
   "source": [
    "type(True)"
   ]
  },
  {
   "cell_type": "code",
   "execution_count": 12,
   "id": "8e91561e",
   "metadata": {},
   "outputs": [
    {
     "name": "stdout",
     "output_type": "stream",
     "text": [
      "halo\n"
     ]
    },
    {
     "data": {
      "text/plain": [
       "str"
      ]
     },
     "execution_count": 12,
     "metadata": {},
     "output_type": "execute_result"
    }
   ],
   "source": [
    "print(\"halo\")\n",
    "type(\"halo\")"
   ]
  },
  {
   "cell_type": "code",
   "execution_count": 13,
   "id": "20e3570c",
   "metadata": {},
   "outputs": [
    {
     "name": "stdout",
     "output_type": "stream",
     "text": [
      "46\n"
     ]
    },
    {
     "data": {
      "text/plain": [
       "str"
      ]
     },
     "execution_count": 13,
     "metadata": {},
     "output_type": "execute_result"
    }
   ],
   "source": [
    "print(\"46\")\n",
    "type(\"46\")"
   ]
  },
  {
   "cell_type": "code",
   "execution_count": 14,
   "id": "6c9cc0d0",
   "metadata": {},
   "outputs": [
    {
     "name": "stdout",
     "output_type": "stream",
     "text": [
      "12\n"
     ]
    },
    {
     "data": {
      "text/plain": [
       "int"
      ]
     },
     "execution_count": 14,
     "metadata": {},
     "output_type": "execute_result"
    }
   ],
   "source": [
    "a=12\n",
    "print(a)\n",
    "type(a)"
   ]
  },
  {
   "cell_type": "code",
   "execution_count": 15,
   "id": "de7c0590",
   "metadata": {},
   "outputs": [
    {
     "name": "stdout",
     "output_type": "stream",
     "text": [
      "7.5\n"
     ]
    },
    {
     "data": {
      "text/plain": [
       "float"
      ]
     },
     "execution_count": 15,
     "metadata": {},
     "output_type": "execute_result"
    }
   ],
   "source": [
    "a=7.5\n",
    "print(a)\n",
    "type(a)"
   ]
  },
  {
   "cell_type": "code",
   "execution_count": 16,
   "id": "61ab1ecd",
   "metadata": {},
   "outputs": [],
   "source": [
    "angka_1, angka_2 = 7.8, 4"
   ]
  },
  {
   "cell_type": "code",
   "execution_count": 17,
   "id": "2d02d511",
   "metadata": {},
   "outputs": [
    {
     "name": "stdout",
     "output_type": "stream",
     "text": [
      "7.8\n",
      "4\n"
     ]
    }
   ],
   "source": [
    "print(angka_1)\n",
    "print(angka_2)"
   ]
  },
  {
   "cell_type": "code",
   "execution_count": 18,
   "id": "8b1de27d",
   "metadata": {},
   "outputs": [
    {
     "data": {
      "text/plain": [
       "1"
      ]
     },
     "execution_count": 18,
     "metadata": {},
     "output_type": "execute_result"
    }
   ],
   "source": [
    "a=5\n",
    "b=4\n",
    "a//b"
   ]
  },
  {
   "cell_type": "code",
   "execution_count": 19,
   "id": "b0c8654b",
   "metadata": {},
   "outputs": [
    {
     "data": {
      "text/plain": [
       "1"
      ]
     },
     "execution_count": 19,
     "metadata": {},
     "output_type": "execute_result"
    }
   ],
   "source": [
    "a%b"
   ]
  },
  {
   "cell_type": "code",
   "execution_count": 20,
   "id": "cb8a8059",
   "metadata": {},
   "outputs": [
    {
     "name": "stdout",
     "output_type": "stream",
     "text": [
      "9\n",
      "20\n"
     ]
    }
   ],
   "source": [
    "print(a+b)\n",
    "print(a*b)"
   ]
  },
  {
   "cell_type": "code",
   "execution_count": 21,
   "id": "ef164830",
   "metadata": {},
   "outputs": [
    {
     "name": "stdout",
     "output_type": "stream",
     "text": [
      "AlinaFlorencia\n"
     ]
    }
   ],
   "source": [
    "nama_dep = 'Alina'\n",
    "nama_bel ='Florencia'\n",
    "print(nama_dep+nama_bel)"
   ]
  },
  {
   "cell_type": "code",
   "execution_count": 22,
   "id": "20cb8712",
   "metadata": {},
   "outputs": [
    {
     "name": "stdout",
     "output_type": "stream",
     "text": [
      "AlinaAlinaAlinaAlinaAlinaAlinaAlina\n"
     ]
    }
   ],
   "source": [
    "print(nama_dep*7)"
   ]
  },
  {
   "cell_type": "code",
   "execution_count": 23,
   "id": "f72f0496",
   "metadata": {},
   "outputs": [
    {
     "name": "stdout",
     "output_type": "stream",
     "text": [
      "True\n"
     ]
    }
   ],
   "source": [
    "a=10\n",
    "b=5\n",
    "print(a>b)"
   ]
  },
  {
   "cell_type": "code",
   "execution_count": 24,
   "id": "a26c9a84",
   "metadata": {},
   "outputs": [
    {
     "name": "stdout",
     "output_type": "stream",
     "text": [
      "Alina florencia\n",
      "ALINA FLORENCIA\n",
      "alina florencia\n",
      "Alina Florencia\n"
     ]
    }
   ],
   "source": [
    "nama=\"Alina florencia\"\n",
    "print(nama.capitalize())\n",
    "print(nama.upper())\n",
    "print(nama.lower())\n",
    "print(nama.title())"
   ]
  },
  {
   "cell_type": "code",
   "execution_count": 25,
   "id": "834158a6",
   "metadata": {},
   "outputs": [
    {
     "name": "stdout",
     "output_type": "stream",
     "text": [
      "(53, 45.2, True, 'Alina', (1, 2, 3))\n"
     ]
    },
    {
     "data": {
      "text/plain": [
       "tuple"
      ]
     },
     "execution_count": 25,
     "metadata": {},
     "output_type": "execute_result"
    }
   ],
   "source": [
    "# tuple dan list\n",
    "my_tuple = (53, 45.2, True, \"Alina\", (1, 2, 3))\n",
    "print(my_tuple)\n",
    "type(my_tuple)"
   ]
  },
  {
   "cell_type": "code",
   "execution_count": 26,
   "id": "cea91bca",
   "metadata": {},
   "outputs": [
    {
     "name": "stdout",
     "output_type": "stream",
     "text": [
      "[53, 45.2, True, 'Alina', (1, 2, 3)]\n"
     ]
    },
    {
     "data": {
      "text/plain": [
       "list"
      ]
     },
     "execution_count": 26,
     "metadata": {},
     "output_type": "execute_result"
    }
   ],
   "source": [
    "my_list = [53, 45.2, True, \"Alina\", (1, 2, 3)]\n",
    "print(my_list)\n",
    "type(my_list)"
   ]
  },
  {
   "cell_type": "code",
   "execution_count": 27,
   "id": "2a81a8a9",
   "metadata": {},
   "outputs": [
    {
     "name": "stdout",
     "output_type": "stream",
     "text": [
      "Alina\n"
     ]
    }
   ],
   "source": [
    "\n",
    "print(my_tuple[3])"
   ]
  },
  {
   "cell_type": "code",
   "execution_count": 28,
   "id": "1537bc1b",
   "metadata": {},
   "outputs": [
    {
     "name": "stdout",
     "output_type": "stream",
     "text": [
      "True\n"
     ]
    }
   ],
   "source": [
    "print(my_list[2])"
   ]
  },
  {
   "cell_type": "code",
   "execution_count": 29,
   "id": "b1bf9065",
   "metadata": {},
   "outputs": [
    {
     "name": "stdout",
     "output_type": "stream",
     "text": [
      "[True, 'Alina']\n",
      "Alina\n"
     ]
    }
   ],
   "source": [
    "print(my_list[2:4])\n",
    "print(my_list[-2])"
   ]
  },
  {
   "cell_type": "code",
   "execution_count": 30,
   "id": "e38b136d",
   "metadata": {},
   "outputs": [
    {
     "data": {
      "text/plain": [
       "False"
      ]
     },
     "execution_count": 30,
     "metadata": {},
     "output_type": "execute_result"
    }
   ],
   "source": [
    "\"Alina\" in my_tuple\n",
    "\n",
    "\"alina\" in my_tuple"
   ]
  },
  {
   "cell_type": "code",
   "execution_count": 31,
   "id": "c858f845",
   "metadata": {},
   "outputs": [],
   "source": [
    "# append\n",
    "my_list.append(\"Hacktiv8\")"
   ]
  },
  {
   "cell_type": "code",
   "execution_count": 32,
   "id": "63d6eb08",
   "metadata": {},
   "outputs": [
    {
     "data": {
      "text/plain": [
       "[53, 45.2, True, 'Alina', (1, 2, 3), 'Hacktiv8']"
      ]
     },
     "execution_count": 32,
     "metadata": {},
     "output_type": "execute_result"
    }
   ],
   "source": [
    "\n",
    "my_list"
   ]
  },
  {
   "cell_type": "code",
   "execution_count": 33,
   "id": "de76e56b",
   "metadata": {},
   "outputs": [
    {
     "data": {
      "text/plain": [
       "'Alina Florencia'"
      ]
     },
     "execution_count": 33,
     "metadata": {},
     "output_type": "execute_result"
    }
   ],
   "source": [
    "# dictionary\n",
    "my_dict = {'nama':'Alina Florencia', 'pekerjaan': 'Mahasiswa'}\n",
    "my_dict['nama']"
   ]
  },
  {
   "cell_type": "code",
   "execution_count": 34,
   "id": "50dec042",
   "metadata": {},
   "outputs": [
    {
     "data": {
      "text/plain": [
       "{'nama': 'Alina Florencia', 'pekerjaan': 'Mahasiswa'}"
      ]
     },
     "execution_count": 34,
     "metadata": {},
     "output_type": "execute_result"
    }
   ],
   "source": [
    "my_dict"
   ]
  },
  {
   "cell_type": "code",
   "execution_count": 35,
   "id": "90d124bf",
   "metadata": {},
   "outputs": [],
   "source": [
    "\n",
    "my_dict['domisili'] = 'Tangerang'"
   ]
  },
  {
   "cell_type": "code",
   "execution_count": 36,
   "id": "0a80f6f5",
   "metadata": {},
   "outputs": [
    {
     "data": {
      "text/plain": [
       "{'nama': 'Alina Florencia', 'pekerjaan': 'Mahasiswa', 'domisili': 'Tangerang'}"
      ]
     },
     "execution_count": 36,
     "metadata": {},
     "output_type": "execute_result"
    }
   ],
   "source": [
    "\n",
    "my_dict"
   ]
  },
  {
   "cell_type": "code",
   "execution_count": 37,
   "id": "da0ab8fd",
   "metadata": {},
   "outputs": [],
   "source": [
    "del my_dict['pekerjaan']"
   ]
  },
  {
   "cell_type": "code",
   "execution_count": 38,
   "id": "fcd8cf08",
   "metadata": {},
   "outputs": [],
   "source": [
    "# set\n",
    "\n",
    "my_set1 = {1,1,1,1,1,2,2,3,3,3,3,3,4,4,4,4,5,5,5,5,77}\n",
    "my_set2 = {3,6,9,12}"
   ]
  },
  {
   "cell_type": "code",
   "execution_count": 39,
   "id": "cd36efa4",
   "metadata": {},
   "outputs": [
    {
     "data": {
      "text/plain": [
       "{1, 2, 3, 4, 5, 6, 9, 12, 77}"
      ]
     },
     "execution_count": 39,
     "metadata": {},
     "output_type": "execute_result"
    }
   ],
   "source": [
    "my_set1.union(my_set2)"
   ]
  },
  {
   "cell_type": "code",
   "execution_count": 40,
   "id": "2ee78639",
   "metadata": {},
   "outputs": [
    {
     "data": {
      "text/plain": [
       "{3}"
      ]
     },
     "execution_count": 40,
     "metadata": {},
     "output_type": "execute_result"
    }
   ],
   "source": [
    "my_set1.intersection(my_set2)"
   ]
  },
  {
   "cell_type": "code",
   "execution_count": 41,
   "id": "903208ca",
   "metadata": {},
   "outputs": [],
   "source": [
    "nama = 'AlinaFlorencia'"
   ]
  },
  {
   "cell_type": "code",
   "execution_count": 42,
   "id": "6b7263e4",
   "metadata": {},
   "outputs": [
    {
     "data": {
      "text/plain": [
       "'n'"
      ]
     },
     "execution_count": 42,
     "metadata": {},
     "output_type": "execute_result"
    }
   ],
   "source": [
    "nama[3]"
   ]
  },
  {
   "cell_type": "code",
   "execution_count": 43,
   "id": "ae6f278d",
   "metadata": {},
   "outputs": [
    {
     "data": {
      "text/plain": [
       "'aFlore'"
      ]
     },
     "execution_count": 43,
     "metadata": {},
     "output_type": "execute_result"
    }
   ],
   "source": [
    "nama[4:10]"
   ]
  },
  {
   "cell_type": "code",
   "execution_count": null,
   "id": "cb7e1f3c",
   "metadata": {},
   "outputs": [],
   "source": []
  }
 ],
 "metadata": {
  "kernelspec": {
   "display_name": "Python 3 (ipykernel)",
   "language": "python",
   "name": "python3"
  },
  "language_info": {
   "codemirror_mode": {
    "name": "ipython",
    "version": 3
   },
   "file_extension": ".py",
   "mimetype": "text/x-python",
   "name": "python",
   "nbconvert_exporter": "python",
   "pygments_lexer": "ipython3",
   "version": "3.7.13"
  }
 },
 "nbformat": 4,
 "nbformat_minor": 5
}
